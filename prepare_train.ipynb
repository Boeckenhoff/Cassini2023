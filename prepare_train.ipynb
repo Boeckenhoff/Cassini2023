{
 "cells": [
  {
   "cell_type": "code",
   "execution_count": 3,
   "id": "f18c0dab-361e-4df9-a21c-631aa1854247",
   "metadata": {},
   "outputs": [
    {
     "name": "stdout",
     "output_type": "stream",
     "text": [
      "     ndvi_mean  ndwi_mean  avg_elevation  presence\n",
      "0     0.076017  -0.051837       0.000000         1\n",
      "1     0.365846  -0.257702      33.500000         1\n",
      "2     0.514546  -0.405578     112.666667         1\n",
      "3     0.341831  -0.279339     102.333333         1\n",
      "4     0.324602  -0.260452      51.800000         1\n",
      "..         ...        ...            ...       ...\n",
      "651   0.331050  -0.234408     462.250000         0\n",
      "652   0.404445  -0.293151    1593.000000         0\n",
      "653   0.464151  -0.393214     760.666667         0\n",
      "654   0.377971  -0.287929    1607.500000         0\n",
      "655   0.287805  -0.183269    1688.666667         0\n",
      "\n",
      "[656 rows x 4 columns]\n"
     ]
    }
   ],
   "source": [
    "import pandas as pd\n",
    "\n",
    "# Load the CSV file into a DataFrame\n",
    "df1 = pd.read_csv('combined.csv')\n",
    "df1 = df1[['ndvi_mean', 'ndwi_mean', 'avg_elevation']]\n",
    "df1['presence'] = 1\n",
    "df2 = pd.read_csv('negative.csv')\n",
    "df2 = df2[['ndvi_mean', 'ndwi_mean', 'avg_elevation']]\n",
    "df2['presence'] = 0\n",
    "\n",
    "concatenated_df = pd.concat([df1, df2], axis=0)\n",
    "\n",
    "# Reset the index of the concatenated DataFrame in case you need a proper sequence\n",
    "concatenated_df.reset_index(drop=True, inplace=True)\n",
    "print(concatenated_df)\n",
    "\n",
    "concatenated_df.to_csv('train.csv', index=False)"
   ]
  },
  {
   "cell_type": "code",
   "execution_count": null,
   "id": "0972376f-53f8-4dfa-8623-cd2b13b93fbb",
   "metadata": {},
   "outputs": [],
   "source": []
  },
  {
   "cell_type": "code",
   "execution_count": null,
   "id": "efd97c84-e474-4aeb-8f8f-4b0c47d7e96f",
   "metadata": {},
   "outputs": [],
   "source": []
  }
 ],
 "metadata": {
  "kernelspec": {
   "display_name": "Sentinel Hub",
   "language": "python",
   "name": "sentinelhub"
  },
  "language_info": {
   "codemirror_mode": {
    "name": "ipython",
    "version": 3
   },
   "file_extension": ".py",
   "mimetype": "text/x-python",
   "name": "python",
   "nbconvert_exporter": "python",
   "pygments_lexer": "ipython3",
   "version": "3.10.12"
  }
 },
 "nbformat": 4,
 "nbformat_minor": 5
}
